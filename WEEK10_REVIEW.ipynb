{
 "cells": [
  {
   "cell_type": "markdown",
   "id": "060ecd94",
   "metadata": {},
   "source": [
    "## 1. 이상치 개념 학습\n",
    "## 2. 이상치 구하기\n",
    "## 3. 이상치 시각화"
   ]
  },
  {
   "cell_type": "code",
   "execution_count": 79,
   "id": "e0c6c61f",
   "metadata": {},
   "outputs": [],
   "source": [
    "#모듈 불러오기\n",
    "import seaborn as sns\n",
    "import pandas as pd\n",
    "import numpy as np\n",
    "\n",
    "from scipy import stats\n",
    "\n",
    "import matplotlib.pyplot as plt\n",
    "import seaborn as sns"
   ]
  },
  {
   "cell_type": "code",
   "execution_count": 80,
   "id": "4c6a60a0",
   "metadata": {},
   "outputs": [],
   "source": [
    "#데이터 불러오기\n",
    "tt=sns.load_dataset('titanic')"
   ]
  },
  {
   "cell_type": "code",
   "execution_count": 81,
   "id": "2298f567",
   "metadata": {},
   "outputs": [
    {
     "data": {
      "text/html": [
       "<div>\n",
       "<style scoped>\n",
       "    .dataframe tbody tr th:only-of-type {\n",
       "        vertical-align: middle;\n",
       "    }\n",
       "\n",
       "    .dataframe tbody tr th {\n",
       "        vertical-align: top;\n",
       "    }\n",
       "\n",
       "    .dataframe thead th {\n",
       "        text-align: right;\n",
       "    }\n",
       "</style>\n",
       "<table border=\"1\" class=\"dataframe\">\n",
       "  <thead>\n",
       "    <tr style=\"text-align: right;\">\n",
       "      <th></th>\n",
       "      <th>survived</th>\n",
       "      <th>pclass</th>\n",
       "      <th>sex</th>\n",
       "      <th>age</th>\n",
       "      <th>sibsp</th>\n",
       "      <th>parch</th>\n",
       "      <th>fare</th>\n",
       "      <th>embarked</th>\n",
       "      <th>class</th>\n",
       "      <th>who</th>\n",
       "      <th>adult_male</th>\n",
       "      <th>deck</th>\n",
       "      <th>embark_town</th>\n",
       "      <th>alive</th>\n",
       "      <th>alone</th>\n",
       "    </tr>\n",
       "  </thead>\n",
       "  <tbody>\n",
       "    <tr>\n",
       "      <th>0</th>\n",
       "      <td>0</td>\n",
       "      <td>3</td>\n",
       "      <td>male</td>\n",
       "      <td>22.0</td>\n",
       "      <td>1</td>\n",
       "      <td>0</td>\n",
       "      <td>7.2500</td>\n",
       "      <td>S</td>\n",
       "      <td>Third</td>\n",
       "      <td>man</td>\n",
       "      <td>True</td>\n",
       "      <td>NaN</td>\n",
       "      <td>Southampton</td>\n",
       "      <td>no</td>\n",
       "      <td>False</td>\n",
       "    </tr>\n",
       "    <tr>\n",
       "      <th>1</th>\n",
       "      <td>1</td>\n",
       "      <td>1</td>\n",
       "      <td>female</td>\n",
       "      <td>38.0</td>\n",
       "      <td>1</td>\n",
       "      <td>0</td>\n",
       "      <td>71.2833</td>\n",
       "      <td>C</td>\n",
       "      <td>First</td>\n",
       "      <td>woman</td>\n",
       "      <td>False</td>\n",
       "      <td>C</td>\n",
       "      <td>Cherbourg</td>\n",
       "      <td>yes</td>\n",
       "      <td>False</td>\n",
       "    </tr>\n",
       "    <tr>\n",
       "      <th>2</th>\n",
       "      <td>1</td>\n",
       "      <td>3</td>\n",
       "      <td>female</td>\n",
       "      <td>26.0</td>\n",
       "      <td>0</td>\n",
       "      <td>0</td>\n",
       "      <td>7.9250</td>\n",
       "      <td>S</td>\n",
       "      <td>Third</td>\n",
       "      <td>woman</td>\n",
       "      <td>False</td>\n",
       "      <td>NaN</td>\n",
       "      <td>Southampton</td>\n",
       "      <td>yes</td>\n",
       "      <td>True</td>\n",
       "    </tr>\n",
       "    <tr>\n",
       "      <th>3</th>\n",
       "      <td>1</td>\n",
       "      <td>1</td>\n",
       "      <td>female</td>\n",
       "      <td>35.0</td>\n",
       "      <td>1</td>\n",
       "      <td>0</td>\n",
       "      <td>53.1000</td>\n",
       "      <td>S</td>\n",
       "      <td>First</td>\n",
       "      <td>woman</td>\n",
       "      <td>False</td>\n",
       "      <td>C</td>\n",
       "      <td>Southampton</td>\n",
       "      <td>yes</td>\n",
       "      <td>False</td>\n",
       "    </tr>\n",
       "    <tr>\n",
       "      <th>4</th>\n",
       "      <td>0</td>\n",
       "      <td>3</td>\n",
       "      <td>male</td>\n",
       "      <td>35.0</td>\n",
       "      <td>0</td>\n",
       "      <td>0</td>\n",
       "      <td>8.0500</td>\n",
       "      <td>S</td>\n",
       "      <td>Third</td>\n",
       "      <td>man</td>\n",
       "      <td>True</td>\n",
       "      <td>NaN</td>\n",
       "      <td>Southampton</td>\n",
       "      <td>no</td>\n",
       "      <td>True</td>\n",
       "    </tr>\n",
       "    <tr>\n",
       "      <th>...</th>\n",
       "      <td>...</td>\n",
       "      <td>...</td>\n",
       "      <td>...</td>\n",
       "      <td>...</td>\n",
       "      <td>...</td>\n",
       "      <td>...</td>\n",
       "      <td>...</td>\n",
       "      <td>...</td>\n",
       "      <td>...</td>\n",
       "      <td>...</td>\n",
       "      <td>...</td>\n",
       "      <td>...</td>\n",
       "      <td>...</td>\n",
       "      <td>...</td>\n",
       "      <td>...</td>\n",
       "    </tr>\n",
       "    <tr>\n",
       "      <th>886</th>\n",
       "      <td>0</td>\n",
       "      <td>2</td>\n",
       "      <td>male</td>\n",
       "      <td>27.0</td>\n",
       "      <td>0</td>\n",
       "      <td>0</td>\n",
       "      <td>13.0000</td>\n",
       "      <td>S</td>\n",
       "      <td>Second</td>\n",
       "      <td>man</td>\n",
       "      <td>True</td>\n",
       "      <td>NaN</td>\n",
       "      <td>Southampton</td>\n",
       "      <td>no</td>\n",
       "      <td>True</td>\n",
       "    </tr>\n",
       "    <tr>\n",
       "      <th>887</th>\n",
       "      <td>1</td>\n",
       "      <td>1</td>\n",
       "      <td>female</td>\n",
       "      <td>19.0</td>\n",
       "      <td>0</td>\n",
       "      <td>0</td>\n",
       "      <td>30.0000</td>\n",
       "      <td>S</td>\n",
       "      <td>First</td>\n",
       "      <td>woman</td>\n",
       "      <td>False</td>\n",
       "      <td>B</td>\n",
       "      <td>Southampton</td>\n",
       "      <td>yes</td>\n",
       "      <td>True</td>\n",
       "    </tr>\n",
       "    <tr>\n",
       "      <th>888</th>\n",
       "      <td>0</td>\n",
       "      <td>3</td>\n",
       "      <td>female</td>\n",
       "      <td>NaN</td>\n",
       "      <td>1</td>\n",
       "      <td>2</td>\n",
       "      <td>23.4500</td>\n",
       "      <td>S</td>\n",
       "      <td>Third</td>\n",
       "      <td>woman</td>\n",
       "      <td>False</td>\n",
       "      <td>NaN</td>\n",
       "      <td>Southampton</td>\n",
       "      <td>no</td>\n",
       "      <td>False</td>\n",
       "    </tr>\n",
       "    <tr>\n",
       "      <th>889</th>\n",
       "      <td>1</td>\n",
       "      <td>1</td>\n",
       "      <td>male</td>\n",
       "      <td>26.0</td>\n",
       "      <td>0</td>\n",
       "      <td>0</td>\n",
       "      <td>30.0000</td>\n",
       "      <td>C</td>\n",
       "      <td>First</td>\n",
       "      <td>man</td>\n",
       "      <td>True</td>\n",
       "      <td>C</td>\n",
       "      <td>Cherbourg</td>\n",
       "      <td>yes</td>\n",
       "      <td>True</td>\n",
       "    </tr>\n",
       "    <tr>\n",
       "      <th>890</th>\n",
       "      <td>0</td>\n",
       "      <td>3</td>\n",
       "      <td>male</td>\n",
       "      <td>32.0</td>\n",
       "      <td>0</td>\n",
       "      <td>0</td>\n",
       "      <td>7.7500</td>\n",
       "      <td>Q</td>\n",
       "      <td>Third</td>\n",
       "      <td>man</td>\n",
       "      <td>True</td>\n",
       "      <td>NaN</td>\n",
       "      <td>Queenstown</td>\n",
       "      <td>no</td>\n",
       "      <td>True</td>\n",
       "    </tr>\n",
       "  </tbody>\n",
       "</table>\n",
       "<p>891 rows × 15 columns</p>\n",
       "</div>"
      ],
      "text/plain": [
       "     survived  pclass     sex   age  sibsp  parch     fare embarked   class  \\\n",
       "0           0       3    male  22.0      1      0   7.2500        S   Third   \n",
       "1           1       1  female  38.0      1      0  71.2833        C   First   \n",
       "2           1       3  female  26.0      0      0   7.9250        S   Third   \n",
       "3           1       1  female  35.0      1      0  53.1000        S   First   \n",
       "4           0       3    male  35.0      0      0   8.0500        S   Third   \n",
       "..        ...     ...     ...   ...    ...    ...      ...      ...     ...   \n",
       "886         0       2    male  27.0      0      0  13.0000        S  Second   \n",
       "887         1       1  female  19.0      0      0  30.0000        S   First   \n",
       "888         0       3  female   NaN      1      2  23.4500        S   Third   \n",
       "889         1       1    male  26.0      0      0  30.0000        C   First   \n",
       "890         0       3    male  32.0      0      0   7.7500        Q   Third   \n",
       "\n",
       "       who  adult_male deck  embark_town alive  alone  \n",
       "0      man        True  NaN  Southampton    no  False  \n",
       "1    woman       False    C    Cherbourg   yes  False  \n",
       "2    woman       False  NaN  Southampton   yes   True  \n",
       "3    woman       False    C  Southampton   yes  False  \n",
       "4      man        True  NaN  Southampton    no   True  \n",
       "..     ...         ...  ...          ...   ...    ...  \n",
       "886    man        True  NaN  Southampton    no   True  \n",
       "887  woman       False    B  Southampton   yes   True  \n",
       "888  woman       False  NaN  Southampton    no  False  \n",
       "889    man        True    C    Cherbourg   yes   True  \n",
       "890    man        True  NaN   Queenstown    no   True  \n",
       "\n",
       "[891 rows x 15 columns]"
      ]
     },
     "execution_count": 81,
     "metadata": {},
     "output_type": "execute_result"
    }
   ],
   "source": [
    "tt"
   ]
  },
  {
   "cell_type": "markdown",
   "id": "d52e09e8",
   "metadata": {},
   "source": [
    "## 1. 이상치 개념 학습\n",
    "### (1) 정의\n",
    "- 이상치 (Outlier): 어떤 특정 기준에 대하여 그 이상,이하인 값들\n",
    "- 이상치는 도메인에 따른 정의가 중요함\n",
    "\n",
    "### (2)이상치가 발생하는 이유\n",
    "1. 데이터 입력 오류\n",
    "2. 특정오류\n",
    "3. 샘플링 오류\n",
    "4. 자연 발생 이상치 \n",
    "5. 데이터 처리 오류\n",
    "\n",
    "### (3) 이상치 탐지\n",
    "- 표준편차 (Z-Score)\n",
    "- MAD (수정된 Z-Score)\n",
    "- 사분위 수 (IQR)\n",
    "- Isolation Forest\n",
    "- DBSCAN(Density Based Spatial Clustering of Application with noise)\n",
    "- LOF(Local Outlier Factor)\n"
   ]
  },
  {
   "cell_type": "markdown",
   "id": "e03f4c1d",
   "metadata": {},
   "source": [
    "## 2. 이상치 구하기"
   ]
  },
  {
   "cell_type": "markdown",
   "id": "d8fda34c",
   "metadata": {},
   "source": [
    "### (1)Z-score"
   ]
  },
  {
   "cell_type": "code",
   "execution_count": 82,
   "id": "e3d86fa2",
   "metadata": {},
   "outputs": [],
   "source": [
    "#넘파이와 stats을 가지고 z-score계산\n",
    "z_score=np.abs(stats.zscore(tt['fare'].dropna())) #결측치 제거"
   ]
  },
  {
   "cell_type": "code",
   "execution_count": 83,
   "id": "54e10b26",
   "metadata": {},
   "outputs": [
    {
     "data": {
      "text/plain": [
       "0     -0.502445\n",
       "1      0.786845\n",
       "2     -0.488854\n",
       "3      0.420730\n",
       "4     -0.486337\n",
       "         ...   \n",
       "886   -0.386671\n",
       "887   -0.044381\n",
       "888   -0.176263\n",
       "889   -0.044381\n",
       "890   -0.492378\n",
       "Name: fare, Length: 891, dtype: float64"
      ]
     },
     "execution_count": 83,
     "metadata": {},
     "output_type": "execute_result"
    }
   ],
   "source": [
    "stats.zscore(tt['fare'].dropna())"
   ]
  },
  {
   "cell_type": "code",
   "execution_count": 84,
   "id": "3887766c",
   "metadata": {},
   "outputs": [
    {
     "data": {
      "text/plain": [
       "0      0.502445\n",
       "1      0.786845\n",
       "2      0.488854\n",
       "3      0.420730\n",
       "4      0.486337\n",
       "         ...   \n",
       "886    0.386671\n",
       "887    0.044381\n",
       "888    0.176263\n",
       "889    0.044381\n",
       "890    0.492378\n",
       "Name: fare, Length: 891, dtype: float64"
      ]
     },
     "execution_count": 84,
     "metadata": {},
     "output_type": "execute_result"
    }
   ],
   "source": [
    "z_score#절대값"
   ]
  },
  {
   "cell_type": "code",
   "execution_count": 85,
   "id": "819dc3b8",
   "metadata": {},
   "outputs": [
    {
     "data": {
      "text/plain": [
       "27     263.0000\n",
       "88     263.0000\n",
       "118    247.5208\n",
       "258    512.3292\n",
       "299    247.5208\n",
       "311    262.3750\n",
       "318    164.8667\n",
       "341    263.0000\n",
       "377    211.5000\n",
       "380    227.5250\n",
       "438    263.0000\n",
       "527    221.7792\n",
       "557    227.5250\n",
       "679    512.3292\n",
       "689    211.3375\n",
       "700    227.5250\n",
       "716    227.5250\n",
       "730    211.3375\n",
       "737    512.3292\n",
       "742    262.3750\n",
       "779    211.3375\n",
       "856    164.8667\n",
       "Name: fare, dtype: float64"
      ]
     },
     "execution_count": 85,
     "metadata": {},
     "output_type": "execute_result"
    }
   ],
   "source": [
    "#임계값\n",
    "threshold = 2.5\n",
    "#임계값을 조절하면서 이상치가 얼마나 변하는지 확인\n",
    "outliers_z=np.where(z_score>threshold)#이상치 인덱스 반환\n",
    "outliers_z_vl=tt['fare'].dropna().iloc[outliers_z]\n",
    "outliers_z_vl"
   ]
  },
  {
   "cell_type": "markdown",
   "id": "48fb1fd7",
   "metadata": {},
   "source": [
    "### (2)IQR"
   ]
  },
  {
   "cell_type": "code",
   "execution_count": 86,
   "id": "a0afda1c",
   "metadata": {},
   "outputs": [
    {
     "data": {
      "text/plain": [
       "(7.9104, 31.0, 23.0896)"
      ]
     },
     "execution_count": 86,
     "metadata": {},
     "output_type": "execute_result"
    }
   ],
   "source": [
    "#quantile(): 분위수\n",
    "Q1=tt['fare'].quantile(0.25)\n",
    "Q3=tt['fare'].quantile(0.75)\n",
    "IQR=Q3-Q1\n",
    "Q1,Q3,IQR"
   ]
  },
  {
   "cell_type": "code",
   "execution_count": 87,
   "id": "45b5e40c",
   "metadata": {},
   "outputs": [
    {
     "data": {
      "text/plain": [
       "(-26.724, 65.6344)"
      ]
     },
     "execution_count": 87,
     "metadata": {},
     "output_type": "execute_result"
    }
   ],
   "source": [
    "#이상치의 기준을 정하자\n",
    "lower_bound=Q1-1.5*IQR\n",
    "upper_bound=Q3+1.5*IQR\n",
    "lower_bound,upper_bound"
   ]
  },
  {
   "cell_type": "code",
   "execution_count": 88,
   "id": "5f017c68",
   "metadata": {},
   "outputs": [
    {
     "data": {
      "text/plain": [
       "1       71.2833\n",
       "27     263.0000\n",
       "31     146.5208\n",
       "34      82.1708\n",
       "52      76.7292\n",
       "         ...   \n",
       "846     69.5500\n",
       "849     89.1042\n",
       "856    164.8667\n",
       "863     69.5500\n",
       "879     83.1583\n",
       "Name: fare, Length: 116, dtype: float64"
      ]
     },
     "execution_count": 88,
     "metadata": {},
     "output_type": "execute_result"
    }
   ],
   "source": [
    "#이상치의 값들 추출\n",
    "# lower bound보다 작고, upper bound보다 큰 값 -> 이상치\n",
    "outlier_iqr=tt[(tt['fare']<lower_bound)|(tt['fare']>upper_bound)]['fare']\n",
    "outlier_iqr"
   ]
  },
  {
   "cell_type": "markdown",
   "id": "51ea5ce8",
   "metadata": {},
   "source": [
    "### (3)MAD"
   ]
  },
  {
   "cell_type": "code",
   "execution_count": 89,
   "id": "3a2da004",
   "metadata": {},
   "outputs": [
    {
     "data": {
      "text/plain": [
       "0       7.2042\n",
       "1      56.8291\n",
       "2       6.5292\n",
       "3      38.6458\n",
       "4       6.4042\n",
       "        ...   \n",
       "886     1.4542\n",
       "887    15.5458\n",
       "888     8.9958\n",
       "889    15.5458\n",
       "890     6.7042\n",
       "Name: fare, Length: 891, dtype: float64"
      ]
     },
     "execution_count": 89,
     "metadata": {},
     "output_type": "execute_result"
    }
   ],
   "source": [
    "median_fare=tt['fare'].median()#중앙값구하기\n",
    "mad=np.median(np.abs(tt['fare']-median_fare))\n",
    "np.abs(tt['fare']-median_fare)"
   ]
  },
  {
   "cell_type": "code",
   "execution_count": 90,
   "id": "990d4c07",
   "metadata": {},
   "outputs": [
    {
     "data": {
      "text/plain": [
       "6.9042"
      ]
     },
     "execution_count": 90,
     "metadata": {},
     "output_type": "execute_result"
    }
   ],
   "source": [
    "mad"
   ]
  },
  {
   "cell_type": "code",
   "execution_count": 91,
   "id": "074dceae",
   "metadata": {},
   "outputs": [
    {
     "data": {
      "text/plain": [
       "0      1.043452\n",
       "1      8.231091\n",
       "2      0.945685\n",
       "3      5.597433\n",
       "4      0.927580\n",
       "         ...   \n",
       "886    0.210625\n",
       "887    2.251644\n",
       "888    1.302946\n",
       "889    2.251644\n",
       "890    0.971032\n",
       "Name: fare, Length: 891, dtype: float64"
      ]
     },
     "execution_count": 91,
     "metadata": {},
     "output_type": "execute_result"
    }
   ],
   "source": [
    "#임계값을 설정 \n",
    "#통상적인 값: 3 , 3.5 \n",
    "thershold_mad=3\n",
    "# MAD Score 만들기:중앙값을 뺀 후 MAD로 나눔\n",
    "mad_score=np.abs(tt['fare']-median_fare)/mad\n",
    "mad_score"
   ]
  },
  {
   "cell_type": "code",
   "execution_count": 92,
   "id": "cbe06766",
   "metadata": {},
   "outputs": [
    {
     "data": {
      "text/plain": [
       "1       71.2833\n",
       "3       53.1000\n",
       "6       51.8625\n",
       "23      35.5000\n",
       "27     263.0000\n",
       "         ...   \n",
       "856    164.8667\n",
       "863     69.5500\n",
       "867     50.4958\n",
       "871     52.5542\n",
       "879     83.1583\n",
       "Name: fare, Length: 198, dtype: float64"
      ]
     },
     "execution_count": 92,
     "metadata": {},
     "output_type": "execute_result"
    }
   ],
   "source": [
    "outliers_mad=tt[mad_score>thershold_mad]['fare']\n",
    "outliers_mad"
   ]
  },
  {
   "cell_type": "markdown",
   "id": "1c0eda40",
   "metadata": {},
   "source": [
    "## 3. 이상치 시각화"
   ]
  },
  {
   "cell_type": "code",
   "execution_count": 93,
   "id": "b8315e77",
   "metadata": {},
   "outputs": [
    {
     "data": {
      "text/plain": [
       "27     263.0000\n",
       "88     263.0000\n",
       "118    247.5208\n",
       "258    512.3292\n",
       "299    247.5208\n",
       "311    262.3750\n",
       "318    164.8667\n",
       "341    263.0000\n",
       "377    211.5000\n",
       "380    227.5250\n",
       "438    263.0000\n",
       "527    221.7792\n",
       "557    227.5250\n",
       "679    512.3292\n",
       "689    211.3375\n",
       "700    227.5250\n",
       "716    227.5250\n",
       "730    211.3375\n",
       "737    512.3292\n",
       "742    262.3750\n",
       "779    211.3375\n",
       "856    164.8667\n",
       "Name: fare, dtype: float64"
      ]
     },
     "execution_count": 93,
     "metadata": {},
     "output_type": "execute_result"
    }
   ],
   "source": [
    "# Z-Score 이상치\n",
    "outliers_z_vl"
   ]
  },
  {
   "cell_type": "code",
   "execution_count": 94,
   "id": "69bb9aa4",
   "metadata": {},
   "outputs": [
    {
     "data": {
      "text/plain": [
       "1       71.2833\n",
       "27     263.0000\n",
       "31     146.5208\n",
       "34      82.1708\n",
       "52      76.7292\n",
       "         ...   \n",
       "846     69.5500\n",
       "849     89.1042\n",
       "856    164.8667\n",
       "863     69.5500\n",
       "879     83.1583\n",
       "Name: fare, Length: 116, dtype: float64"
      ]
     },
     "execution_count": 94,
     "metadata": {},
     "output_type": "execute_result"
    }
   ],
   "source": [
    "# IQR 이상치\n",
    "outlier_iqr"
   ]
  },
  {
   "cell_type": "code",
   "execution_count": 95,
   "id": "c7d4863e",
   "metadata": {},
   "outputs": [
    {
     "data": {
      "text/plain": [
       "1       71.2833\n",
       "3       53.1000\n",
       "6       51.8625\n",
       "23      35.5000\n",
       "27     263.0000\n",
       "         ...   \n",
       "856    164.8667\n",
       "863     69.5500\n",
       "867     50.4958\n",
       "871     52.5542\n",
       "879     83.1583\n",
       "Name: fare, Length: 198, dtype: float64"
      ]
     },
     "execution_count": 95,
     "metadata": {},
     "output_type": "execute_result"
    }
   ],
   "source": [
    "# MAD 이상치\n",
    "outliers_mad"
   ]
  },
  {
   "cell_type": "code",
   "execution_count": 96,
   "id": "f466e8c2",
   "metadata": {},
   "outputs": [
    {
     "data": {
      "text/html": [
       "<div>\n",
       "<style scoped>\n",
       "    .dataframe tbody tr th:only-of-type {\n",
       "        vertical-align: middle;\n",
       "    }\n",
       "\n",
       "    .dataframe tbody tr th {\n",
       "        vertical-align: top;\n",
       "    }\n",
       "\n",
       "    .dataframe thead th {\n",
       "        text-align: right;\n",
       "    }\n",
       "</style>\n",
       "<table border=\"1\" class=\"dataframe\">\n",
       "  <thead>\n",
       "    <tr style=\"text-align: right;\">\n",
       "      <th></th>\n",
       "      <th>Z-score</th>\n",
       "      <th>IQR</th>\n",
       "      <th>MAD</th>\n",
       "    </tr>\n",
       "  </thead>\n",
       "  <tbody>\n",
       "    <tr>\n",
       "      <th>1</th>\n",
       "      <td>NaN</td>\n",
       "      <td>71.2833</td>\n",
       "      <td>71.2833</td>\n",
       "    </tr>\n",
       "    <tr>\n",
       "      <th>3</th>\n",
       "      <td>NaN</td>\n",
       "      <td>NaN</td>\n",
       "      <td>53.1000</td>\n",
       "    </tr>\n",
       "    <tr>\n",
       "      <th>6</th>\n",
       "      <td>NaN</td>\n",
       "      <td>NaN</td>\n",
       "      <td>51.8625</td>\n",
       "    </tr>\n",
       "    <tr>\n",
       "      <th>23</th>\n",
       "      <td>NaN</td>\n",
       "      <td>NaN</td>\n",
       "      <td>35.5000</td>\n",
       "    </tr>\n",
       "    <tr>\n",
       "      <th>27</th>\n",
       "      <td>263.0000</td>\n",
       "      <td>263.0000</td>\n",
       "      <td>263.0000</td>\n",
       "    </tr>\n",
       "    <tr>\n",
       "      <th>...</th>\n",
       "      <td>...</td>\n",
       "      <td>...</td>\n",
       "      <td>...</td>\n",
       "    </tr>\n",
       "    <tr>\n",
       "      <th>856</th>\n",
       "      <td>164.8667</td>\n",
       "      <td>164.8667</td>\n",
       "      <td>164.8667</td>\n",
       "    </tr>\n",
       "    <tr>\n",
       "      <th>863</th>\n",
       "      <td>NaN</td>\n",
       "      <td>69.5500</td>\n",
       "      <td>69.5500</td>\n",
       "    </tr>\n",
       "    <tr>\n",
       "      <th>867</th>\n",
       "      <td>NaN</td>\n",
       "      <td>NaN</td>\n",
       "      <td>50.4958</td>\n",
       "    </tr>\n",
       "    <tr>\n",
       "      <th>871</th>\n",
       "      <td>NaN</td>\n",
       "      <td>NaN</td>\n",
       "      <td>52.5542</td>\n",
       "    </tr>\n",
       "    <tr>\n",
       "      <th>879</th>\n",
       "      <td>NaN</td>\n",
       "      <td>83.1583</td>\n",
       "      <td>83.1583</td>\n",
       "    </tr>\n",
       "  </tbody>\n",
       "</table>\n",
       "<p>198 rows × 3 columns</p>\n",
       "</div>"
      ],
      "text/plain": [
       "      Z-score       IQR       MAD\n",
       "1         NaN   71.2833   71.2833\n",
       "3         NaN       NaN   53.1000\n",
       "6         NaN       NaN   51.8625\n",
       "23        NaN       NaN   35.5000\n",
       "27   263.0000  263.0000  263.0000\n",
       "..        ...       ...       ...\n",
       "856  164.8667  164.8667  164.8667\n",
       "863       NaN   69.5500   69.5500\n",
       "867       NaN       NaN   50.4958\n",
       "871       NaN       NaN   52.5542\n",
       "879       NaN   83.1583   83.1583\n",
       "\n",
       "[198 rows x 3 columns]"
      ]
     },
     "execution_count": 96,
     "metadata": {},
     "output_type": "execute_result"
    }
   ],
   "source": [
    "# 이상치 데이터 프레임 만들기\n",
    "# 보팅 방식으로 3개 모두 이상치 또는 2개이상 이상치라고 판정 시 이상치라고 정의할 수 있음 \n",
    "# 이상치를 다양한 방법론으로 정의할 수 있음\n",
    "outliers_df = pd.DataFrame({'Z-score': outliers_z_vl,\n",
    "                           'IQR': outlier_iqr,\n",
    "                           'MAD': outliers_mad})\n",
    "outliers_df"
   ]
  },
  {
   "cell_type": "code",
   "execution_count": 97,
   "id": "64bc2563",
   "metadata": {},
   "outputs": [
    {
     "data": {
      "text/plain": [
       "Text(0, 0.5, 'Fare')"
      ]
     },
     "execution_count": 97,
     "metadata": {},
     "output_type": "execute_result"
    },
    {
     "data": {
      "image/png": "[encoded data removed]",
      "text/plain": [
       "<Figure size 1080x360 with 3 Axes>"
      ]
     },
     "metadata": {
      "needs_background": "light"
     },
     "output_type": "display_data"
    }
   ],
   "source": [
    "##이상치 시각화 비교 \n",
    "plt.figure(figsize=(15,5))\n",
    "\n",
    "# Z-score\n",
    "plt.subplot(1,3,1)\n",
    "sns.scatterplot(x=outliers_z_vl.index, y=outliers_z_vl)\n",
    "plt.title('Z-score Outliers')\n",
    "plt.xlabel('Index')\n",
    "plt.ylabel('Fare')\n",
    "\n",
    "\n",
    "# IQR\n",
    "plt.subplot(1,3,2)\n",
    "sns.scatterplot(x=outlier_iqr.index, y=outlier_iqr)\n",
    "plt.title('IQR Outliers')\n",
    "plt.xlabel('Index')\n",
    "plt.ylabel('Fare')\n",
    "\n",
    "# MAD\n",
    "plt.subplot(1,3,3)\n",
    "sns.scatterplot(x=outliers_mad.index, y=outliers_mad)\n",
    "plt.title('MAD Outliers')\n",
    "plt.xlabel('Index')\n",
    "plt.ylabel('Fare')\n",
    "# 이상치의 값이 다르게 나타나는 이유: 근본적인 이유는 다른 방법을 사용했기 때문(->이상치의 기준을 다르게 계산하였기 때문)\n",
    "# 비즈니스 도메인에 따라 이상치, 임계값을 정의 내리는 일이 매우 중요함\n",
    "# 데이터 분포,경향,치우침,왜도,첨도도 고려하여 분석해야 함"
   ]
  },
  {
   "cell_type": "markdown",
   "id": "1c654525",
   "metadata": {},
   "source": [
    "## 4. 데이터 분포\n",
    "- 데이터의 분포, 경향, 치우침, 왜도, 첨도 등"
   ]
  },
  {
   "cell_type": "markdown",
   "id": "5e2f1a4f",
   "metadata": {},
   "source": [
    "### (1) 타이타닉 데이터"
   ]
  },
  {
   "cell_type": "code",
   "execution_count": 98,
   "id": "cf476527",
   "metadata": {},
   "outputs": [
    {
     "data": {
      "text/plain": [
       "Text(0.5, 1.0, 'Q-Q plot of Fare')"
      ]
     },
     "execution_count": 98,
     "metadata": {},
     "output_type": "execute_result"
    },
    {
     "data": {
      "image/png": "[encoded data removed]",
      "text/plain": [
       "<Figure size 864x432 with 2 Axes>"
      ]
     },
     "metadata": {
      "needs_background": "light"
     },
     "output_type": "display_data"
    }
   ],
   "source": [
    "# 데이터의 분포 살펴보기\n",
    "plt.figure(figsize=(12,6))\n",
    "\n",
    "# 히스토그램\n",
    "plt.subplot(1,2,1)\n",
    "sns.histplot(tt['fare'].dropna(), kde=True)\n",
    "plt.title('Histogram of Fare')\n",
    "\n",
    "# Q-Q plot: 정규성\n",
    "plt.subplot(1,2,2)\n",
    "stats.probplot(tt['fare'].dropna(), dist='norm', plot=plt)\n",
    "plt.title('Q-Q plot of Fare')"
   ]
  },
  {
   "cell_type": "code",
   "execution_count": 99,
   "id": "c511c11e",
   "metadata": {},
   "outputs": [
    {
     "data": {
      "text/plain": [
       "count    891.000000\n",
       "mean      32.204208\n",
       "std       49.693429\n",
       "min        0.000000\n",
       "25%        7.910400\n",
       "50%       14.454200\n",
       "75%       31.000000\n",
       "max      512.329200\n",
       "Name: fare, dtype: float64"
      ]
     },
     "execution_count": 99,
     "metadata": {},
     "output_type": "execute_result"
    }
   ],
   "source": [
    "tt['fare'].describe()"
   ]
  },
  {
   "cell_type": "markdown",
   "id": "8ca07b7f",
   "metadata": {},
   "source": [
    "### (2) 정규분포"
   ]
  },
  {
   "cell_type": "code",
   "execution_count": 100,
   "id": "6b113336",
   "metadata": {},
   "outputs": [],
   "source": [
    "# 정규분포 만들기\n",
    "np.random.seed(42)\n",
    "\n",
    "fare_normal = np.random.normal(loc=tt['fare'].mean(), scale = tt['fare'].std(), size=len(tt['fare']))\n",
    "tt['fare_normal'] = fare_normal"
   ]
  },
  {
   "cell_type": "code",
   "execution_count": 101,
   "id": "33888751",
   "metadata": {},
   "outputs": [
    {
     "data": {
      "image/png": "[encoded data removed]",
      "text/plain": [
       "<Figure size 864x432 with 4 Axes>"
      ]
     },
     "metadata": {
      "needs_background": "light"
     },
     "output_type": "display_data"
    }
   ],
   "source": [
    "# 타이타닉 데이터 vs 정규분포 비교\n",
    "plt.figure(figsize=(12,6))\n",
    "\n",
    "\n",
    "# 타이타닉 데이터\n",
    "\n",
    "# 히스토그램\n",
    "plt.subplot(2,2,1)\n",
    "sns.histplot(tt['fare'].dropna(), kde=True)\n",
    "plt.title('Histogram of Original Fare')\n",
    "\n",
    "# Q-Q Plot\n",
    "plt.subplot(2,2,2)\n",
    "stats.probplot(tt['fare'].dropna(), dist='norm', plot=plt)\n",
    "plt.title('Q-Q plot of Original Fare')\n",
    "\n",
    "\n",
    "# 정규분포\n",
    "\n",
    "# 히스토그램\n",
    "plt.subplot(2,2,3)\n",
    "sns.histplot(tt['fare_normal'].dropna(), kde=True)\n",
    "plt.title('Histogram of fare_normal')\n",
    "\n",
    "# Q-Q Plot\n",
    "plt.subplot(2,2,4)\n",
    "stats.probplot(tt['fare_normal'].dropna(), dist='norm', plot=plt)\n",
    "plt.title('Q-Q plot of fare_normal ')\n",
    "\n",
    "plt.tight_layout()\n",
    "plt.show()"
   ]
  }
 ],
 "metadata": {
  "kernelspec": {
   "display_name": "Python 3 (ipykernel)",
   "language": "python",
   "name": "python3"
  },
  "language_info": {
   "codemirror_mode": {
    "name": "ipython",
    "version": 3
   },
   "file_extension": ".py",
   "mimetype": "text/x-python",
   "name": "python",
   "nbconvert_exporter": "python",
   "pygments_lexer": "ipython3",
   "version": "3.9.12"
  }
 },
 "nbformat": 4,
 "nbformat_minor": 5
}
